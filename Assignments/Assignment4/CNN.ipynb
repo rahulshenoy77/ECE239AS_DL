{
 "cells": [
  {
   "cell_type": "markdown",
   "metadata": {},
   "source": [
    "# Convolutional neural networks\n",
    "\n",
    "In this notebook, we'll put together our convolutional layers to implement a 3-layer CNN.  Then, we'll ask you to implement a CNN that can achieve > 65% validation error on CIFAR-10.\n",
    "\n",
    "CS231n has built a solid API for building these modular frameworks and training them, and we will use their very well implemented framework as opposed to \"reinventing the wheel.\"  This includes using their Solver, various utility functions, their layer structure, and their implementation of fast CNN layers.  This also includes nndl.fc_net, nndl.layers, and nndl.layer_utils.  As in prior assignments, we thank Serena Yeung & Justin Johnson for permission to use code written for the CS 231n class (cs231n.stanford.edu).  \n",
    "\n",
    "If you have not completed the Spatial BatchNorm Notebook, please see the following description from that notebook:\n",
    "\n",
    "Please copy and paste your prior implemented code from HW #4 to start this assignment.  If you did not correctly implement the layers in HW #4, you may collaborate with a classmate to use their layer implementations from HW #4.  You may also visit TA or Prof OH to correct your implementation.  \n",
    "\n",
    "You'll want to copy and paste from HW #4:\n",
    "    - layers.py for your FC network layers, as well as batchnorm and dropout.\n",
    "    - layer_utils.py for your combined FC network layers.\n",
    "    - optim.py for your optimizers.\n",
    "\n",
    "Be sure to place these in the `nndl/` directory so they're imported correctly.  Note, as announced in class, we will not be releasing our solutions."
   ]
  },
  {
   "cell_type": "code",
   "execution_count": 1,
   "metadata": {},
   "outputs": [],
   "source": [
    "# As usual, a bit of setup\n",
    "\n",
    "import numpy as np\n",
    "import matplotlib.pyplot as plt\n",
    "from nndl.cnn import *\n",
    "from cs231n.data_utils import get_CIFAR10_data\n",
    "from cs231n.gradient_check import eval_numerical_gradient_array, eval_numerical_gradient\n",
    "from nndl.layers import *\n",
    "from nndl.conv_layers import *\n",
    "from cs231n.fast_layers import *\n",
    "from cs231n.solver import Solver\n",
    "\n",
    "%matplotlib inline\n",
    "plt.rcParams['figure.figsize'] = (10.0, 8.0) # set default size of plots\n",
    "plt.rcParams['image.interpolation'] = 'nearest'\n",
    "plt.rcParams['image.cmap'] = 'gray'\n",
    "\n",
    "# for auto-reloading external modules\n",
    "# see http://stackoverflow.com/questions/1907993/autoreload-of-modules-in-ipython\n",
    "%load_ext autoreload\n",
    "%autoreload 2\n",
    "\n",
    "def rel_error(x, y):\n",
    "  \"\"\" returns relative error \"\"\"\n",
    "  return np.max(np.abs(x - y) / (np.maximum(1e-8, np.abs(x) + np.abs(y))))"
   ]
  },
  {
   "cell_type": "code",
   "execution_count": 2,
   "metadata": {},
   "outputs": [
    {
     "name": "stdout",
     "output_type": "stream",
     "text": [
      "X_train: (49000, 3, 32, 32) \n",
      "y_train: (49000,) \n",
      "X_val: (1000, 3, 32, 32) \n",
      "y_val: (1000,) \n",
      "X_test: (1000, 3, 32, 32) \n",
      "y_test: (1000,) \n"
     ]
    }
   ],
   "source": [
    "# Load the (preprocessed) CIFAR10 data.\n",
    "\n",
    "data = get_CIFAR10_data()\n",
    "for k in data.keys():\n",
    "  print('{}: {} '.format(k, data[k].shape))"
   ]
  },
  {
   "cell_type": "markdown",
   "metadata": {},
   "source": [
    "## Three layer CNN\n",
    "\n",
    "In this notebook, you will implement a three layer CNN.  The `ThreeLayerConvNet` class is in `nndl/cnn.py`.  You'll need to modify that code for this section, including the initialization, as well as the calculation of the loss and gradients.  You should be able to use the building blocks you have either earlier coded or that we have provided.  Be sure to use the fast layers.\n",
    "\n",
    "The architecture of this CNN will be:\n",
    "\n",
    "conv - relu - 2x2 max pool - affine - relu - affine - softmax\n",
    "\n",
    "We won't use batchnorm yet.  You've also done enough of these to know how to debug; use the cells below.\n",
    "\n",
    "Note: As we are implementing several layers CNN networks. The gradient error can be expected for the `eval_numerical_gradient()` function. If your `W1 max relative error` and `W2 max relative error` are around or below 0.01, they should be acceptable. Other errors should be less than 1e-5. "
   ]
  },
  {
   "cell_type": "code",
   "execution_count": 8,
   "metadata": {},
   "outputs": [
    {
     "name": "stdout",
     "output_type": "stream",
     "text": [
      "W1 max relative error: 0.007687664597852274\n",
      "W2 max relative error: 0.004940617065072795\n",
      "W3 max relative error: 2.657060898549081e-05\n",
      "b1 max relative error: 1.5010184336474174e-05\n",
      "b2 max relative error: 3.5347711751448637e-07\n",
      "b3 max relative error: 1.5332071295311376e-09\n"
     ]
    }
   ],
   "source": [
    "num_inputs = 2\n",
    "input_dim = (3, 16, 16)\n",
    "reg = 0.0\n",
    "num_classes = 10\n",
    "X = np.random.randn(num_inputs, *input_dim)\n",
    "y = np.random.randint(num_classes, size=num_inputs)\n",
    "\n",
    "model = ThreeLayerConvNet(num_filters=3, filter_size=3,\n",
    "                          input_dim=input_dim, hidden_dim=7,\n",
    "                          dtype=np.float64)\n",
    "loss, grads = model.loss(X, y)\n",
    "for param_name in sorted(grads):\n",
    "    f = lambda _: model.loss(X, y)[0]\n",
    "    param_grad_num = eval_numerical_gradient(f, model.params[param_name], verbose=False, h=1e-6)\n",
    "    e = rel_error(param_grad_num, grads[param_name])\n",
    "    print('{} max relative error: {}'.format(param_name, rel_error(param_grad_num, grads[param_name])))"
   ]
  },
  {
   "cell_type": "markdown",
   "metadata": {},
   "source": [
    "### Overfit small dataset\n",
    "\n",
    "To check your CNN implementation, let's overfit a small dataset."
   ]
  },
  {
   "cell_type": "code",
   "execution_count": 9,
   "metadata": {},
   "outputs": [
    {
     "name": "stdout",
     "output_type": "stream",
     "text": [
      "(Iteration 1 / 20) loss: 2.328498\n",
      "(Epoch 0 / 10) train acc: 0.150000; val_acc: 0.111000\n",
      "(Iteration 2 / 20) loss: 4.371225\n",
      "(Epoch 1 / 10) train acc: 0.180000; val_acc: 0.117000\n",
      "(Iteration 3 / 20) loss: 2.848371\n",
      "(Iteration 4 / 20) loss: 2.514341\n",
      "(Epoch 2 / 10) train acc: 0.230000; val_acc: 0.130000\n",
      "(Iteration 5 / 20) loss: 2.234227\n",
      "(Iteration 6 / 20) loss: 2.711951\n",
      "(Epoch 3 / 10) train acc: 0.220000; val_acc: 0.123000\n",
      "(Iteration 7 / 20) loss: 2.399595\n",
      "(Iteration 8 / 20) loss: 2.024678\n",
      "(Epoch 4 / 10) train acc: 0.370000; val_acc: 0.201000\n",
      "(Iteration 9 / 20) loss: 1.880094\n",
      "(Iteration 10 / 20) loss: 1.854048\n",
      "(Epoch 5 / 10) train acc: 0.540000; val_acc: 0.210000\n",
      "(Iteration 11 / 20) loss: 1.722734\n",
      "(Iteration 12 / 20) loss: 1.375878\n",
      "(Epoch 6 / 10) train acc: 0.460000; val_acc: 0.202000\n",
      "(Iteration 13 / 20) loss: 1.745671\n",
      "(Iteration 14 / 20) loss: 1.374945\n",
      "(Epoch 7 / 10) train acc: 0.570000; val_acc: 0.184000\n",
      "(Iteration 15 / 20) loss: 1.124394\n",
      "(Iteration 16 / 20) loss: 1.111560\n",
      "(Epoch 8 / 10) train acc: 0.680000; val_acc: 0.210000\n",
      "(Iteration 17 / 20) loss: 1.296697\n",
      "(Iteration 18 / 20) loss: 1.007150\n",
      "(Epoch 9 / 10) train acc: 0.670000; val_acc: 0.217000\n",
      "(Iteration 19 / 20) loss: 0.886667\n",
      "(Iteration 20 / 20) loss: 0.868711\n",
      "(Epoch 10 / 10) train acc: 0.850000; val_acc: 0.224000\n"
     ]
    }
   ],
   "source": [
    "num_train = 100\n",
    "small_data = {\n",
    "  'X_train': data['X_train'][:num_train],\n",
    "  'y_train': data['y_train'][:num_train],\n",
    "  'X_val': data['X_val'],\n",
    "  'y_val': data['y_val'],\n",
    "}\n",
    "\n",
    "model = ThreeLayerConvNet(weight_scale=1e-2)\n",
    "\n",
    "solver = Solver(model, small_data,\n",
    "                num_epochs=10, batch_size=50,\n",
    "                update_rule='adam',\n",
    "                optim_config={\n",
    "                  'learning_rate': 1e-3,\n",
    "                },\n",
    "                verbose=True, print_every=1)\n",
    "solver.train()"
   ]
  },
  {
   "cell_type": "code",
   "execution_count": 10,
   "metadata": {},
   "outputs": [
    {
     "data": {
      "image/png": "[encoded data removed]",
      "text/plain": [
       "<Figure size 432x288 with 2 Axes>"
      ]
     },
     "metadata": {
      "needs_background": "light"
     },
     "output_type": "display_data"
    }
   ],
   "source": [
    "plt.subplot(2, 1, 1)\n",
    "plt.plot(solver.loss_history, 'o')\n",
    "plt.xlabel('iteration')\n",
    "plt.ylabel('loss')\n",
    "\n",
    "plt.subplot(2, 1, 2)\n",
    "plt.plot(solver.train_acc_history, '-o')\n",
    "plt.plot(solver.val_acc_history, '-o')\n",
    "plt.legend(['train', 'val'], loc='upper left')\n",
    "plt.xlabel('epoch')\n",
    "plt.ylabel('accuracy')\n",
    "plt.show()"
   ]
  },
  {
   "cell_type": "markdown",
   "metadata": {},
   "source": [
    "## Train the network\n",
    "\n",
    "Now we train the 3 layer CNN on CIFAR-10 and assess its accuracy."
   ]
  },
  {
   "cell_type": "code",
   "execution_count": 11,
   "metadata": {
    "scrolled": false
   },
   "outputs": [
    {
     "name": "stdout",
     "output_type": "stream",
     "text": [
      "(Iteration 1 / 980) loss: 2.304705\n",
      "(Epoch 0 / 1) train acc: 0.138000; val_acc: 0.111000\n",
      "(Iteration 21 / 980) loss: 2.061877\n",
      "(Iteration 41 / 980) loss: 1.890908\n",
      "(Iteration 61 / 980) loss: 2.091869\n",
      "(Iteration 81 / 980) loss: 1.868324\n",
      "(Iteration 101 / 980) loss: 1.803112\n",
      "(Iteration 121 / 980) loss: 1.697329\n",
      "(Iteration 141 / 980) loss: 1.594195\n",
      "(Iteration 161 / 980) loss: 1.654415\n",
      "(Iteration 181 / 980) loss: 1.588202\n",
      "(Iteration 201 / 980) loss: 1.762661\n",
      "(Iteration 221 / 980) loss: 1.499885\n",
      "(Iteration 241 / 980) loss: 1.552204\n",
      "(Iteration 261 / 980) loss: 1.642569\n",
      "(Iteration 281 / 980) loss: 1.588734\n",
      "(Iteration 301 / 980) loss: 1.865206\n",
      "(Iteration 321 / 980) loss: 1.819273\n",
      "(Iteration 341 / 980) loss: 1.538858\n",
      "(Iteration 361 / 980) loss: 1.611981\n",
      "(Iteration 381 / 980) loss: 1.699390\n",
      "(Iteration 401 / 980) loss: 1.557444\n",
      "(Iteration 421 / 980) loss: 1.597279\n",
      "(Iteration 441 / 980) loss: 1.738115\n",
      "(Iteration 461 / 980) loss: 1.964607\n",
      "(Iteration 481 / 980) loss: 1.648790\n",
      "(Iteration 501 / 980) loss: 1.939512\n",
      "(Iteration 521 / 980) loss: 1.619854\n",
      "(Iteration 541 / 980) loss: 1.525040\n",
      "(Iteration 561 / 980) loss: 1.602035\n",
      "(Iteration 581 / 980) loss: 1.386309\n",
      "(Iteration 601 / 980) loss: 1.583718\n",
      "(Iteration 621 / 980) loss: 1.590273\n",
      "(Iteration 641 / 980) loss: 1.405426\n",
      "(Iteration 661 / 980) loss: 1.508342\n",
      "(Iteration 681 / 980) loss: 1.686526\n",
      "(Iteration 701 / 980) loss: 1.484620\n",
      "(Iteration 721 / 980) loss: 1.470341\n",
      "(Iteration 741 / 980) loss: 1.657323\n",
      "(Iteration 761 / 980) loss: 1.725579\n",
      "(Iteration 781 / 980) loss: 1.444603\n",
      "(Iteration 801 / 980) loss: 1.636370\n",
      "(Iteration 821 / 980) loss: 1.915956\n",
      "(Iteration 841 / 980) loss: 1.719442\n",
      "(Iteration 861 / 980) loss: 1.389815\n",
      "(Iteration 881 / 980) loss: 1.812294\n",
      "(Iteration 901 / 980) loss: 1.497892\n",
      "(Iteration 921 / 980) loss: 1.563297\n",
      "(Iteration 941 / 980) loss: 1.532131\n",
      "(Iteration 961 / 980) loss: 1.504695\n",
      "(Epoch 1 / 1) train acc: 0.482000; val_acc: 0.457000\n"
     ]
    }
   ],
   "source": [
    "model = ThreeLayerConvNet(weight_scale=0.001, hidden_dim=500, reg=0.001)\n",
    "\n",
    "solver = Solver(model, data,\n",
    "                num_epochs=1, batch_size=50,\n",
    "                update_rule='adam',\n",
    "                optim_config={\n",
    "                  'learning_rate': 1e-3,\n",
    "                },\n",
    "                verbose=True, print_every=20)\n",
    "solver.train()"
   ]
  },
  {
   "cell_type": "markdown",
   "metadata": {},
   "source": [
    "# Get > 65% validation accuracy on CIFAR-10.\n",
    "\n",
    "In the last part of the assignment, we'll now ask you to train a CNN to get better than 65% validation accuracy on CIFAR-10.\n",
    "\n",
    "### Things you should try:\n",
    "- Filter size: Above we used 7x7; but VGGNet and onwards showed stacks of 3x3 filters are good.  \n",
    "- Number of filters: Above we used 32 filters. Do more or fewer do better?\n",
    "- Batch normalization: Try adding spatial batch normalization after convolution layers and vanilla batch normalization aafter affine layers. Do your networks train faster?\n",
    "- Network architecture: Can a deeper CNN do better?  Consider these architectures:\n",
    "    - [conv-relu-pool]xN - conv - relu - [affine]xM - [softmax or SVM]\n",
    "    - [conv-relu-pool]XN - [affine]XM - [softmax or SVM]\n",
    "    - [conv-relu-conv-relu-pool]xN - [affine]xM - [softmax or SVM]\n",
    "\n",
    "### Tips for training\n",
    "For each network architecture that you try, you should tune the learning rate and regularization strength. When doing this there are a couple important things to keep in mind:\n",
    "\n",
    "- If the parameters are working well, you should see improvement within a few hundred iterations\n",
    "- Remember the coarse-to-fine approach for hyperparameter tuning: start by testing a large range of hyperparameters for just a few training iterations to find the combinations of parameters that are working at all.\n",
    "- Once you have found some sets of parameters that seem to work, search more finely around these parameters. You may need to train for more epochs."
   ]
  },
  {
   "cell_type": "code",
   "execution_count": 3,
   "metadata": {
    "scrolled": false
   },
   "outputs": [
    {
     "name": "stdout",
     "output_type": "stream",
     "text": [
      "(Iteration 1 / 4900) loss: 2.337513\n",
      "(Epoch 0 / 10) train acc: 0.133000; val_acc: 0.180000\n",
      "(Iteration 51 / 4900) loss: 1.768514\n",
      "(Iteration 101 / 4900) loss: 1.563447\n",
      "(Iteration 151 / 4900) loss: 1.547776\n",
      "(Iteration 201 / 4900) loss: 1.505529\n",
      "(Iteration 251 / 4900) loss: 1.486817\n",
      "(Iteration 301 / 4900) loss: 1.488693\n",
      "(Iteration 351 / 4900) loss: 1.346529\n",
      "(Iteration 401 / 4900) loss: 1.387606\n",
      "(Iteration 451 / 4900) loss: 1.494805\n",
      "(Epoch 1 / 10) train acc: 0.579000; val_acc: 0.565000\n",
      "(Iteration 501 / 4900) loss: 1.285597\n",
      "(Iteration 551 / 4900) loss: 1.338834\n",
      "(Iteration 601 / 4900) loss: 1.263169\n",
      "(Iteration 651 / 4900) loss: 1.415295\n",
      "(Iteration 701 / 4900) loss: 1.082467\n",
      "(Iteration 751 / 4900) loss: 1.153056\n",
      "(Iteration 801 / 4900) loss: 1.233346\n",
      "(Iteration 851 / 4900) loss: 1.207266\n",
      "(Iteration 901 / 4900) loss: 1.143039\n",
      "(Iteration 951 / 4900) loss: 1.109050\n",
      "(Epoch 2 / 10) train acc: 0.664000; val_acc: 0.601000\n",
      "(Iteration 1001 / 4900) loss: 1.200422\n",
      "(Iteration 1051 / 4900) loss: 1.133392\n",
      "(Iteration 1101 / 4900) loss: 0.984580\n",
      "(Iteration 1151 / 4900) loss: 0.954256\n",
      "(Iteration 1201 / 4900) loss: 0.988944\n",
      "(Iteration 1251 / 4900) loss: 0.958016\n",
      "(Iteration 1301 / 4900) loss: 0.949918\n",
      "(Iteration 1351 / 4900) loss: 1.064339\n",
      "(Iteration 1401 / 4900) loss: 1.120271\n",
      "(Iteration 1451 / 4900) loss: 0.949500\n",
      "(Epoch 3 / 10) train acc: 0.694000; val_acc: 0.606000\n",
      "(Iteration 1501 / 4900) loss: 1.118915\n",
      "(Iteration 1551 / 4900) loss: 0.836812\n",
      "(Iteration 1601 / 4900) loss: 1.115288\n",
      "(Iteration 1651 / 4900) loss: 0.805437\n",
      "(Iteration 1701 / 4900) loss: 0.812516\n",
      "(Iteration 1751 / 4900) loss: 1.091727\n",
      "(Iteration 1801 / 4900) loss: 0.839887\n",
      "(Iteration 1851 / 4900) loss: 0.801831\n",
      "(Iteration 1901 / 4900) loss: 0.860141\n",
      "(Iteration 1951 / 4900) loss: 0.949686\n",
      "(Epoch 4 / 10) train acc: 0.729000; val_acc: 0.656000\n",
      "(Iteration 2001 / 4900) loss: 0.769675\n",
      "(Iteration 2051 / 4900) loss: 1.071197\n",
      "(Iteration 2101 / 4900) loss: 0.862168\n",
      "(Iteration 2151 / 4900) loss: 0.914175\n",
      "(Iteration 2201 / 4900) loss: 0.799012\n",
      "(Iteration 2251 / 4900) loss: 0.950229\n",
      "(Iteration 2301 / 4900) loss: 0.766924\n",
      "(Iteration 2351 / 4900) loss: 0.784299\n",
      "(Iteration 2401 / 4900) loss: 0.811819\n",
      "(Epoch 5 / 10) train acc: 0.780000; val_acc: 0.675000\n",
      "(Iteration 2451 / 4900) loss: 0.789501\n",
      "(Iteration 2501 / 4900) loss: 0.871384\n",
      "(Iteration 2551 / 4900) loss: 0.653042\n",
      "(Iteration 2601 / 4900) loss: 0.660074\n",
      "(Iteration 2651 / 4900) loss: 0.762390\n",
      "(Iteration 2701 / 4900) loss: 0.875592\n",
      "(Iteration 2751 / 4900) loss: 0.839939\n",
      "(Iteration 2801 / 4900) loss: 0.781482\n",
      "(Iteration 2851 / 4900) loss: 0.802290\n",
      "(Iteration 2901 / 4900) loss: 0.943453\n",
      "(Epoch 6 / 10) train acc: 0.787000; val_acc: 0.672000\n",
      "(Iteration 2951 / 4900) loss: 0.838704\n",
      "(Iteration 3001 / 4900) loss: 0.674478\n",
      "(Iteration 3051 / 4900) loss: 0.771331\n",
      "(Iteration 3101 / 4900) loss: 0.840776\n",
      "(Iteration 3151 / 4900) loss: 0.567612\n",
      "(Iteration 3201 / 4900) loss: 0.661353\n",
      "(Iteration 3251 / 4900) loss: 0.678821\n",
      "(Iteration 3301 / 4900) loss: 0.767827\n",
      "(Iteration 3351 / 4900) loss: 0.653358\n",
      "(Iteration 3401 / 4900) loss: 0.736455\n",
      "(Epoch 7 / 10) train acc: 0.825000; val_acc: 0.658000\n",
      "(Iteration 3451 / 4900) loss: 0.722092\n",
      "(Iteration 3501 / 4900) loss: 0.845511\n",
      "(Iteration 3551 / 4900) loss: 0.656149\n",
      "(Iteration 3601 / 4900) loss: 0.700505\n",
      "(Iteration 3651 / 4900) loss: 0.788150\n",
      "(Iteration 3701 / 4900) loss: 0.556949\n",
      "(Iteration 3751 / 4900) loss: 0.717166\n",
      "(Iteration 3801 / 4900) loss: 0.724210\n",
      "(Iteration 3851 / 4900) loss: 0.776417\n",
      "(Iteration 3901 / 4900) loss: 0.636364\n",
      "(Epoch 8 / 10) train acc: 0.850000; val_acc: 0.663000\n",
      "(Iteration 3951 / 4900) loss: 0.714561\n",
      "(Iteration 4001 / 4900) loss: 0.583127\n",
      "(Iteration 4051 / 4900) loss: 0.473750\n",
      "(Iteration 4101 / 4900) loss: 0.665508\n",
      "(Iteration 4151 / 4900) loss: 0.503655\n",
      "(Iteration 4201 / 4900) loss: 0.555131\n",
      "(Iteration 4251 / 4900) loss: 0.557881\n",
      "(Iteration 4301 / 4900) loss: 0.535392\n",
      "(Iteration 4351 / 4900) loss: 0.622673\n",
      "(Iteration 4401 / 4900) loss: 0.655008\n",
      "(Epoch 9 / 10) train acc: 0.900000; val_acc: 0.675000\n",
      "(Iteration 4451 / 4900) loss: 0.508687\n",
      "(Iteration 4501 / 4900) loss: 0.582184\n",
      "(Iteration 4551 / 4900) loss: 0.573704\n",
      "(Iteration 4601 / 4900) loss: 0.653438\n",
      "(Iteration 4651 / 4900) loss: 0.448885\n",
      "(Iteration 4701 / 4900) loss: 0.612290\n",
      "(Iteration 4751 / 4900) loss: 0.536872\n",
      "(Iteration 4801 / 4900) loss: 0.536753\n",
      "(Iteration 4851 / 4900) loss: 0.521925\n",
      "(Epoch 10 / 10) train acc: 0.887000; val_acc: 0.683000\n"
     ]
    }
   ],
   "source": [
    "# ================================================================ #\n",
    "# YOUR CODE HERE:\n",
    "#   Implement a CNN to achieve greater than 65% validation accuracy\n",
    "#   on CIFAR-10.\n",
    "# ================================================================ #\n",
    "model = ThreeLayerConvNet(weight_scale=0.001, num_filters=100, filter_size = 5, hidden_dim=900, reg=0.003)\n",
    "\n",
    "solver = Solver(model, data,\n",
    "                num_epochs=10, batch_size=100,\n",
    "                update_rule='adam',\n",
    "                optim_config={\n",
    "                  'learning_rate': 1e-4,\n",
    "                },\n",
    "                verbose=True, print_every=50)\n",
    "solver.train()\n",
    "\n",
    "# ================================================================ #\n",
    "# END YOUR CODE HERE\n",
    "# ================================================================ #\n"
   ]
  },
  {
   "cell_type": "code",
   "execution_count": null,
   "metadata": {},
   "outputs": [],
   "source": []
  }
 ],
 "metadata": {
  "kernelspec": {
   "display_name": "Python 3",
   "language": "python",
   "name": "python3"
  },
  "language_info": {
   "codemirror_mode": {
    "name": "ipython",
    "version": 3
   },
   "file_extension": ".py",
   "mimetype": "text/x-python",
   "name": "python",
   "nbconvert_exporter": "python",
   "pygments_lexer": "ipython3",
   "version": "3.8.1"
  }
 },
 "nbformat": 4,
 "nbformat_minor": 2
}
